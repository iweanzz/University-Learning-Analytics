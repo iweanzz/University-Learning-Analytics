{
 "cells": [
  {
   "cell_type": "code",
   "execution_count": 2,
   "metadata": {},
   "outputs": [],
   "source": [
    "import psycopg2\n",
    "conn = psycopg2.connect(\n",
    "    database=\"postgres\",\n",
    "    user=\"postgres\",\n",
    "    password=\"Georgetown16\",\n",
    "    host=\"universitylearningdb.c5vispb5ezxg.us-east-1.rds.amazonaws.com\",\n",
    "    port='5432'\n",
    ")\n",
    "\n",
    "cur = conn.cursor()"
   ]
  },
  {
   "cell_type": "code",
   "execution_count": 3,
   "metadata": {},
   "outputs": [],
   "source": [
    "cur.execute(\"\"\"\n",
    "    CREATE TABLE studentInfo(\n",
    "        code_module text,\n",
    "        code_presentation text,\n",
    "        id_student integer PRIMARY KEY,\n",
    "        gender text,\n",
    "        region text,\n",
    "        highest_education text,\n",
    "        imd_band text,\n",
    "        age_band text,\n",
    "        num_of_prev_attemps integer,\n",
    "        studied_credit integer,\n",
    "        disability text,\n",
    "        final_result text)\n",
    "    \"\"\")\n",
    "conn.commit()\n"
   ]
  },
  {
   "cell_type": "code",
   "execution_count": null,
   "metadata": {},
   "outputs": [],
   "source": [
    "sql = \"Select * from studentInfo\"\n",
    "    try:\n",
    "        print(sql)\n",
    "        cur.execute(sql)     \n",
    "    except Exception as e:\n",
    "        conn.rollback()"
   ]
  }
 ],
 "metadata": {
  "kernelspec": {
   "display_name": "Python 3",
   "language": "python",
   "name": "python3"
  },
  "language_info": {
   "codemirror_mode": {
    "name": "ipython",
    "version": 3
   },
   "file_extension": ".py",
   "mimetype": "text/x-python",
   "name": "python",
   "nbconvert_exporter": "python",
   "pygments_lexer": "ipython3",
   "version": "3.6.8"
  }
 },
 "nbformat": 4,
 "nbformat_minor": 2
}
